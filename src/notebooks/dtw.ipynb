{
 "cells": [
  {
   "cell_type": "code",
   "execution_count": 2,
   "metadata": {},
   "outputs": [
    {
     "name": "stderr",
     "output_type": "stream",
     "text": [
      "/home/sshimizu/.pyenv/versions/anaconda3-5.2.0/lib/python3.6/site-packages/h5py/__init__.py:36: FutureWarning: Conversion of the second argument of issubdtype from `float` to `np.floating` is deprecated. In future, it will be treated as `np.float64 == np.dtype(float).type`.\n",
      "  from ._conv import register_converters as _register_converters\n"
     ]
    }
   ],
   "source": [
    "import h5py\n",
    "import numpy as np\n",
    "from dtw import dtw\n",
    "from tqdm import trange"
   ]
  },
  {
   "cell_type": "code",
   "execution_count": 3,
   "metadata": {},
   "outputs": [],
   "source": [
    "DATAPATH = '../../brain_p/data/pca_fMRI_per_cm'\n",
    "WRITEPATH = '../../brain_p/data/dtw'"
   ]
  },
  {
   "cell_type": "code",
   "execution_count": 1,
   "metadata": {},
   "outputs": [
    {
     "data": {
      "text/plain": [
       "'13_11'"
      ]
     },
     "execution_count": 1,
     "metadata": {},
     "output_type": "execute_result"
    }
   ],
   "source": [
    "# 連番からevset, evnoをつくる\n",
    "def make_ev(num):\n",
    "    counter = 0\n",
    "    while((num + 1) % 30 != 0):\n",
    "        num += 1\n",
    "        counter += 1\n",
    "    evset = int((num + 1) / 30)\n",
    "    evno = int(30 - counter)\n",
    "    return str(evset).zfill(2) + \"_\" + str(evno).zfill(2)\n",
    "make_ev(370)"
   ]
  },
  {
   "cell_type": "code",
   "execution_count": 5,
   "metadata": {},
   "outputs": [],
   "source": [
    "# 類似度の行列dataを360*360の隣接行列に変換する\n",
    "def array_to_adjacency_matrix(data):\n",
    "    N = 360\n",
    "    # dataを分割する\n",
    "    keep = 0\n",
    "    cut = N - 1\n",
    "    ary = []\n",
    "    while(cut > 0):\n",
    "        ary.append(data[keep : keep + cut])\n",
    "        keep += cut\n",
    "        cut = cut - 1\n",
    "    ary = np.array(ary)\n",
    "    # 上三角行列に入れてから隣接行列をつくる\n",
    "    mat = []\n",
    "    for i in range(N-1):\n",
    "        ary_i = np.append(np.zeros(i+1), ary[i])\n",
    "        mat.append(ary_i)\n",
    "    mat.append(np.zeros(N))\n",
    "    mat = np.array(mat)\n",
    "    mat = mat + mat.T\n",
    "    return mat"
   ]
  },
  {
   "cell_type": "code",
   "execution_count": null,
   "metadata": {},
   "outputs": [],
   "source": [
    "# for person in range(27):\n",
    "#     hdfpath = DATAPATH + \"/01\" + str(person+1).zfill(2) + \".hdf\"\n",
    "#     writepath = WRITEPATH + \"/01\" + str(person+1).zfill(2) + \".hdf\"\n",
    "hdfpath = DATAPATH + \"/0101.hdf\"\n",
    "writepath = WRITEPATH + \"/0101.hdf\"\n",
    "\n",
    "with h5py.File(hdfpath,'r') as read_file:\n",
    "    similarity_per_person = []\n",
    "    for i in range(360):\n",
    "        for j in range(i+1, 360):\n",
    "            similarity_per_cm_combi = []\n",
    "            for k in range(1000):\n",
    "                x = read_file[make_ev(i)].value\n",
    "                y = read_file[make_ev(j)].value\n",
    "                l2_norm = lambda x, y: (x - y) ** 2\n",
    "                d, cost_matrix, acc_cost_matrix, path = dtw(x[:,k].reshape(-1, 1), y[:,k].reshape(-1, 1), dist=l2_norm)\n",
    "                similarity_per_cm_combi.append(d)\n",
    "            mean_per_combi = np.mean(similarity_per_cm_combi)\n",
    "            similarity_per_person.append(mean_per_combi)\n",
    "    similarity_per_person = np.array(similarity_per_person)\n",
    "    adjacency_matrix = array_to_adjacency_matrix(similarity_per_person)\n",
    "with h5py.File(writepath, 'w') as outfile:\n",
    "    outfile.create_dataset('adjacency_matrix', data = adjacency_matrix)"
   ]
  },
  {
   "cell_type": "code",
   "execution_count": null,
   "metadata": {},
   "outputs": [],
   "source": []
  }
 ],
 "metadata": {
  "kernelspec": {
   "display_name": "Python 3",
   "language": "python",
   "name": "python3"
  },
  "language_info": {
   "codemirror_mode": {
    "name": "ipython",
    "version": 3
   },
   "file_extension": ".py",
   "mimetype": "text/x-python",
   "name": "python",
   "nbconvert_exporter": "python",
   "pygments_lexer": "ipython3",
   "version": "3.6.5"
  }
 },
 "nbformat": 4,
 "nbformat_minor": 2
}
