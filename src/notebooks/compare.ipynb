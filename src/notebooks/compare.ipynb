{
 "cells": [
  {
   "cell_type": "code",
   "execution_count": 357,
   "metadata": {},
   "outputs": [],
   "source": [
    "import numpy as np\n",
    "import matplotlib.pyplot as plt\n",
    "import random\n",
    "import pandas as pd\n",
    "from pandas import Series\n",
    "import h5py"
   ]
  },
  {
   "cell_type": "code",
   "execution_count": 403,
   "metadata": {},
   "outputs": [],
   "source": [
    "DATAPATH = '../../data'\n",
    "SEC = 15\n",
    "N_CLUSTER = 5"
   ]
  },
  {
   "cell_type": "code",
   "execution_count": 404,
   "metadata": {},
   "outputs": [],
   "source": [
    "distancepath = DATAPATH + '/usermap{}.hdf'.format(SEC)\n",
    "with h5py.File(distancepath,'r') as distance_file:\n",
    "    sdm = distance_file['adjacency_matrix'].value # sample distance matrix の名残り"
   ]
  },
  {
   "cell_type": "code",
   "execution_count": 405,
   "metadata": {},
   "outputs": [],
   "source": [
    "scm = np.load(file = DATAPATH + \"/cluster/cluster_ham_{:02d}.npy\".format(N_CLUSTER)) # sample clustering matrix"
   ]
  },
  {
   "cell_type": "code",
   "execution_count": 406,
   "metadata": {},
   "outputs": [],
   "source": [
    "#sample flat list from sdm\n",
    "sfldm = []\n",
    "for i in range(27):\n",
    "    for j in range(i+1, 27):\n",
    "        sfldm.append(sdm[i, j])"
   ]
  },
  {
   "cell_type": "code",
   "execution_count": 407,
   "metadata": {},
   "outputs": [],
   "source": [
    "#sample flat list from scm\n",
    "sflcm = []\n",
    "for i in range(27):\n",
    "    for j in range(i+1, 27):\n",
    "        sflcm.append(scm[i, j])"
   ]
  },
  {
   "cell_type": "code",
   "execution_count": 408,
   "metadata": {},
   "outputs": [],
   "source": [
    "# 01_16みたいなkeyを与える\n",
    "keys = []\n",
    "for i in range(27):\n",
    "    for j in range(i+1, 27):\n",
    "        keys.append(str(i+1).zfill(2) + \"_\" + str(j+1).zfill(2))"
   ]
  },
  {
   "cell_type": "code",
   "execution_count": 409,
   "metadata": {},
   "outputs": [],
   "source": [
    "dmdic = dict(zip(keys, sfldm))\n",
    "cmdic = dict(zip(keys, sflcm))"
   ]
  },
  {
   "cell_type": "code",
   "execution_count": 410,
   "metadata": {},
   "outputs": [
    {
     "name": "stdout",
     "output_type": "stream",
     "text": [
      "Index(['17_21', '05_21', '05_17', '06_21', '06_17', '05_06', '21_26', '02_21',\n",
      "       '17_26', '01_06', '01_17', '05_26', '02_05', '01_21', '04_08', '04_11',\n",
      "       '17_23', '23_26', '02_17', '01_05', '06_26', '04_26', '21_23', '05_23',\n",
      "       '06_23', '16_17', '11_26', '16_21', '02_06', '21_22', '09_26', '01_26',\n",
      "       '08_26', '08_11', '04_27', '04_09', '05_16', '11_23', '04_23', '05_22',\n",
      "       '12_26', '04_12', '01_02', '02_23', '16_23', '02_26', '03_04', '12_17',\n",
      "       '12_21', '04_24'],\n",
      "      dtype='object')\n"
     ]
    }
   ],
   "source": [
    "# ソート\n",
    "dmser = Series(dmdic)\n",
    "dmser = dmser.sort_values()\n",
    "print(dmser.keys()[:50])"
   ]
  },
  {
   "cell_type": "code",
   "execution_count": 411,
   "metadata": {},
   "outputs": [
    {
     "data": {
      "text/plain": [
       "17_21    267188.490249\n",
       "05_21    277730.265889\n",
       "05_17    282797.121645\n",
       "06_21    292389.156979\n",
       "06_17    306300.986981\n",
       "05_06    313008.042890\n",
       "21_26    313162.630374\n",
       "02_21    316862.296351\n",
       "17_26    318352.271245\n",
       "01_06    323452.367855\n",
       "01_17    323698.620418\n",
       "05_26    324552.525800\n",
       "02_05    326726.291697\n",
       "01_21    335863.324730\n",
       "04_08    339065.538452\n",
       "04_11    339589.915621\n",
       "17_23    343924.823030\n",
       "23_26    344122.441979\n",
       "02_17    344693.884770\n",
       "01_05    349467.926715\n",
       "06_26    350251.628931\n",
       "04_26    352241.919160\n",
       "21_23    353518.292125\n",
       "05_23    354579.212183\n",
       "06_23    354919.850781\n",
       "11_26    369635.933669\n",
       "02_06    374482.235257\n",
       "21_22    374488.675299\n",
       "09_26    379132.873279\n",
       "01_26    380258.422999\n",
       "             ...      \n",
       "07_14    674873.473449\n",
       "07_10    675578.770424\n",
       "03_07    676324.287974\n",
       "06_15    676877.633861\n",
       "07_27    678787.240239\n",
       "15_25    681258.165477\n",
       "14_22    688692.843725\n",
       "07_18    689443.201945\n",
       "01_13    694112.027989\n",
       "07_19    695511.438928\n",
       "07_20    696654.490077\n",
       "19_22    697044.311967\n",
       "13_20    697048.476327\n",
       "15_19    705971.602903\n",
       "10_22    709882.062060\n",
       "10_13    709982.218675\n",
       "14_15    711190.448899\n",
       "03_13    713906.190275\n",
       "13_25    718427.337375\n",
       "03_15    718842.325808\n",
       "15_18    722688.453258\n",
       "13_18    723140.727776\n",
       "13_14    725326.839657\n",
       "07_22    733848.327390\n",
       "13_19    760732.049903\n",
       "03_22    761154.662392\n",
       "13_22    764310.106082\n",
       "13_15    785950.936958\n",
       "07_15    813415.542548\n",
       "07_13    850044.315665\n",
       "Length: 325, dtype: float64"
      ]
     },
     "execution_count": 411,
     "metadata": {},
     "output_type": "execute_result"
    }
   ],
   "source": [
    "sorted_cmlist = []\n",
    "sorted_keylist = []\n",
    "for i in dmser.keys():\n",
    "    if ((\"16\" in i) == False):\n",
    "        sorted_cmlist.append(cmdic[i])\n",
    "        sorted_keylist.append(i)\n",
    "\n",
    "dmser[sorted_keylist]"
   ]
  },
  {
   "cell_type": "code",
   "execution_count": 412,
   "metadata": {},
   "outputs": [
    {
     "name": "stdout",
     "output_type": "stream",
     "text": [
      "325\n"
     ]
    }
   ],
   "source": [
    "# 積算値を計算\n",
    "numerator = 0\n",
    "denominator = 0\n",
    "value_list = []\n",
    "for i in sorted_cmlist:\n",
    "    denominator += 1\n",
    "    if (i == 1):\n",
    "        numerator += 1\n",
    "    value_list.append(numerator / denominator)\n",
    "print(len(value_list))"
   ]
  },
  {
   "cell_type": "code",
   "execution_count": 413,
   "metadata": {},
   "outputs": [
    {
     "data": {
      "image/png": "[encoded data removed]",
      "text/plain": [
       "<Figure size 432x288 with 1 Axes>"
      ]
     },
     "metadata": {},
     "output_type": "display_data"
    }
   ],
   "source": [
    "# dmserのkeysを横軸、value_listを縦軸としたグラフをplot\n",
    "# x = np.arange(325) # 27C2 - 26 = 351 - 26\n",
    "x = dmser[sorted_keylist].values # 27C2 - 26 = 351 - 26\n",
    "y = value_list\n",
    "plt.suptitle('{} clusters {} sec'.format(N_CLUSTER, SEC), y=0)\n",
    "plt.plot(x, y)\n",
    "plt.xlabel('Distance')\n",
    "plt.ylabel('Cumulative accuracy')\n",
    "plt.xlim(dmser[sorted_keylist].min(), dmser[sorted_keylist].max())\n",
    "plt.savefig(DATAPATH + '/vis/compare_{:02d}_cluster_{}_sec.png'.format(N_CLUSTER, SEC))"
   ]
  },
  {
   "cell_type": "code",
   "execution_count": 380,
   "metadata": {},
   "outputs": [],
   "source": [
    "# RANGE = 50\n",
    "# x = np.arange(RANGE)\n",
    "# y = value_list[:RANGE]\n",
    "# plt.figure(figsize=(10, 5), dpi=200)\n",
    "# plt.plot(x, y)\n",
    "# plt.xticks(np.arange(RANGE), sorted_keylist[:RANGE], rotation='vertical')\n",
    "# plt.savefig('extract50.png')"
   ]
  },
  {
   "cell_type": "code",
   "execution_count": null,
   "metadata": {},
   "outputs": [],
   "source": []
  }
 ],
 "metadata": {
  "kernelspec": {
   "display_name": "Python 3",
   "language": "python",
   "name": "python3"
  },
  "language_info": {
   "codemirror_mode": {
    "name": "ipython",
    "version": 3
   },
   "file_extension": ".py",
   "mimetype": "text/x-python",
   "name": "python",
   "nbconvert_exporter": "python",
   "pygments_lexer": "ipython3",
   "version": "3.6.5"
  }
 },
 "nbformat": 4,
 "nbformat_minor": 2
}
