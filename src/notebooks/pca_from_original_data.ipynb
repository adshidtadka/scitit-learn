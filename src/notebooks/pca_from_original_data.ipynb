{
 "cells": [
  {
   "cell_type": "code",
   "execution_count": 19,
   "metadata": {},
   "outputs": [],
   "source": [
    "import h5py\n",
    "import numpy as np\n",
    "import pandas as pd\n",
    "from sklearn.decomposition import PCA\n",
    "from tqdm import trange\n",
    "import os"
   ]
  },
  {
   "cell_type": "code",
   "execution_count": 20,
   "metadata": {},
   "outputs": [],
   "source": [
    "DATAPATH = '../../data/'"
   ]
  },
  {
   "cell_type": "code",
   "execution_count": 21,
   "metadata": {},
   "outputs": [],
   "source": [
    "# データの格納ディレクトリを作成\n",
    "os.makedirs(DATAPATH + 'pca', exist_ok=True)"
   ]
  },
  {
   "cell_type": "code",
   "execution_count": 28,
   "metadata": {},
   "outputs": [
    {
     "name": "stderr",
     "output_type": "stream",
     "text": [
      "resp: 100%|██████████| 27/27 [00:00<00:00, 23997.92it/s]\n"
     ]
    }
   ],
   "source": [
    "for r in trange(27, desc='resp'):\n",
    "    RESP = '01' + str(r + 1).zfill(2)\n",
    "    hdfpath = DATAPATH + 'resp1/' + RESP + '.hdf' if r < 14 else DATAPATH + 'resp2/' + RESP + '.hdf'\n",
    "    pcapath = DATAPATH + 'pca/' + RESP + '.hdf'\n",
    "    with h5py.File(hdfpath,'r') as read_file:\n",
    "        with h5py.File(pcapath, 'w') as write_file:\n",
    "            for data_name in ['resp_trn', 'resp_val']:\n",
    "                pca = PCA(n_components=1000)\n",
    "                pca.fit(read_file[data_name])\n",
    "                write_file.create_dataset(data_name, data=pca.fit_transform(read_file[data_name]))"
   ]
  }
 ],
 "metadata": {
  "kernelspec": {
   "display_name": "Python 3",
   "language": "python",
   "name": "python3"
  },
  "language_info": {
   "codemirror_mode": {
    "name": "ipython",
    "version": 3
   },
   "file_extension": ".py",
   "mimetype": "text/x-python",
   "name": "python",
   "nbconvert_exporter": "python",
   "pygments_lexer": "ipython3",
   "version": "3.6.5"
  }
 },
 "nbformat": 4,
 "nbformat_minor": 2
}
